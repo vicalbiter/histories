{
 "cells": [
  {
   "cell_type": "code",
   "execution_count": 38,
   "metadata": {},
   "outputs": [],
   "source": [
    "# Import external script\n",
    "%run models.py"
   ]
  },
  {
   "cell_type": "code",
   "execution_count": 39,
   "metadata": {},
   "outputs": [
    {
     "data": {
      "text/html": [
       "<div>\n",
       "<style scoped>\n",
       "    .dataframe tbody tr th:only-of-type {\n",
       "        vertical-align: middle;\n",
       "    }\n",
       "\n",
       "    .dataframe tbody tr th {\n",
       "        vertical-align: top;\n",
       "    }\n",
       "\n",
       "    .dataframe thead th {\n",
       "        text-align: right;\n",
       "    }\n",
       "</style>\n",
       "<table border=\"1\" class=\"dataframe\">\n",
       "  <thead>\n",
       "    <tr style=\"text-align: right;\">\n",
       "      <th></th>\n",
       "      <th>id_sexo</th>\n",
       "      <th>Aedad</th>\n",
       "      <th>AAedad</th>\n",
       "      <th>Apuesto</th>\n",
       "      <th>id_gestud</th>\n",
       "      <th>AIMC</th>\n",
       "      <th>fuma</th>\n",
       "      <th>fuma_act</th>\n",
       "      <th>ejer_act</th>\n",
       "      <th>ejer1</th>\n",
       "      <th>...</th>\n",
       "      <th>locout5</th>\n",
       "      <th>locout10</th>\n",
       "      <th>locout20</th>\n",
       "      <th>locout30</th>\n",
       "      <th>rest_act</th>\n",
       "      <th>rest1</th>\n",
       "      <th>rest5</th>\n",
       "      <th>rest10</th>\n",
       "      <th>rest20</th>\n",
       "      <th>rest30</th>\n",
       "    </tr>\n",
       "    <tr>\n",
       "      <th>dp_folio</th>\n",
       "      <th></th>\n",
       "      <th></th>\n",
       "      <th></th>\n",
       "      <th></th>\n",
       "      <th></th>\n",
       "      <th></th>\n",
       "      <th></th>\n",
       "      <th></th>\n",
       "      <th></th>\n",
       "      <th></th>\n",
       "      <th></th>\n",
       "      <th></th>\n",
       "      <th></th>\n",
       "      <th></th>\n",
       "      <th></th>\n",
       "      <th></th>\n",
       "      <th></th>\n",
       "      <th></th>\n",
       "      <th></th>\n",
       "      <th></th>\n",
       "      <th></th>\n",
       "    </tr>\n",
       "  </thead>\n",
       "  <tbody>\n",
       "    <tr>\n",
       "      <td>1</td>\n",
       "      <td>F</td>\n",
       "      <td>51</td>\n",
       "      <td>6</td>\n",
       "      <td>Admin</td>\n",
       "      <td>CarTec</td>\n",
       "      <td>4</td>\n",
       "      <td>1</td>\n",
       "      <td>3</td>\n",
       "      <td>0</td>\n",
       "      <td>2</td>\n",
       "      <td>...</td>\n",
       "      <td>1</td>\n",
       "      <td>1</td>\n",
       "      <td>1</td>\n",
       "      <td>1</td>\n",
       "      <td>0</td>\n",
       "      <td>0</td>\n",
       "      <td>0</td>\n",
       "      <td>0</td>\n",
       "      <td>0</td>\n",
       "      <td>0</td>\n",
       "    </tr>\n",
       "    <tr>\n",
       "      <td>2</td>\n",
       "      <td>F</td>\n",
       "      <td>38</td>\n",
       "      <td>4</td>\n",
       "      <td>Sec</td>\n",
       "      <td>Bach</td>\n",
       "      <td>3</td>\n",
       "      <td>2</td>\n",
       "      <td>-1</td>\n",
       "      <td>0</td>\n",
       "      <td>0</td>\n",
       "      <td>...</td>\n",
       "      <td>0</td>\n",
       "      <td>0</td>\n",
       "      <td>0</td>\n",
       "      <td>0</td>\n",
       "      <td>1</td>\n",
       "      <td>3</td>\n",
       "      <td>0</td>\n",
       "      <td>0</td>\n",
       "      <td>0</td>\n",
       "      <td>0</td>\n",
       "    </tr>\n",
       "    <tr>\n",
       "      <td>3</td>\n",
       "      <td>F</td>\n",
       "      <td>34</td>\n",
       "      <td>3</td>\n",
       "      <td>Int</td>\n",
       "      <td>Sec</td>\n",
       "      <td>5</td>\n",
       "      <td>1</td>\n",
       "      <td>1</td>\n",
       "      <td>0</td>\n",
       "      <td>0</td>\n",
       "      <td>...</td>\n",
       "      <td>1</td>\n",
       "      <td>-1</td>\n",
       "      <td>-1</td>\n",
       "      <td>-1</td>\n",
       "      <td>0</td>\n",
       "      <td>0</td>\n",
       "      <td>0</td>\n",
       "      <td>-1</td>\n",
       "      <td>-1</td>\n",
       "      <td>-1</td>\n",
       "    </tr>\n",
       "    <tr>\n",
       "      <td>4</td>\n",
       "      <td>M</td>\n",
       "      <td>63</td>\n",
       "      <td>8</td>\n",
       "      <td>Jef</td>\n",
       "      <td>CarTec</td>\n",
       "      <td>4</td>\n",
       "      <td>2</td>\n",
       "      <td>-1</td>\n",
       "      <td>2</td>\n",
       "      <td>2</td>\n",
       "      <td>...</td>\n",
       "      <td>0</td>\n",
       "      <td>0</td>\n",
       "      <td>0</td>\n",
       "      <td>-1</td>\n",
       "      <td>0</td>\n",
       "      <td>0</td>\n",
       "      <td>0</td>\n",
       "      <td>0</td>\n",
       "      <td>0</td>\n",
       "      <td>0</td>\n",
       "    </tr>\n",
       "    <tr>\n",
       "      <td>5</td>\n",
       "      <td>M</td>\n",
       "      <td>42</td>\n",
       "      <td>4</td>\n",
       "      <td>EM</td>\n",
       "      <td>Sec</td>\n",
       "      <td>3</td>\n",
       "      <td>1</td>\n",
       "      <td>2</td>\n",
       "      <td>2</td>\n",
       "      <td>2</td>\n",
       "      <td>...</td>\n",
       "      <td>0</td>\n",
       "      <td>0</td>\n",
       "      <td>0</td>\n",
       "      <td>0</td>\n",
       "      <td>0</td>\n",
       "      <td>0</td>\n",
       "      <td>0</td>\n",
       "      <td>0</td>\n",
       "      <td>0</td>\n",
       "      <td>0</td>\n",
       "    </tr>\n",
       "  </tbody>\n",
       "</table>\n",
       "<p>5 rows × 72 columns</p>\n",
       "</div>"
      ],
      "text/plain": [
       "         id_sexo  Aedad  AAedad Apuesto id_gestud  AIMC  fuma  fuma_act  \\\n",
       "dp_folio                                                                  \n",
       "1              F     51       6   Admin    CarTec     4     1         3   \n",
       "2              F     38       4     Sec      Bach     3     2        -1   \n",
       "3              F     34       3     Int       Sec     5     1         1   \n",
       "4              M     63       8     Jef    CarTec     4     2        -1   \n",
       "5              M     42       4      EM       Sec     3     1         2   \n",
       "\n",
       "          ejer_act  ejer1  ...  locout5  locout10  locout20  locout30  \\\n",
       "dp_folio                   ...                                          \n",
       "1                0      2  ...        1         1         1         1   \n",
       "2                0      0  ...        0         0         0         0   \n",
       "3                0      0  ...        1        -1        -1        -1   \n",
       "4                2      2  ...        0         0         0        -1   \n",
       "5                2      2  ...        0         0         0         0   \n",
       "\n",
       "          rest_act  rest1  rest5  rest10  rest20  rest30  \n",
       "dp_folio                                                  \n",
       "1                0      0      0       0       0       0  \n",
       "2                1      3      0       0       0       0  \n",
       "3                0      0      0      -1      -1      -1  \n",
       "4                0      0      0       0       0       0  \n",
       "5                0      0      0       0       0       0  \n",
       "\n",
       "[5 rows x 72 columns]"
      ]
     },
     "execution_count": 39,
     "metadata": {},
     "output_type": "execute_result"
    }
   ],
   "source": [
    "# Import data from CSV\n",
    "fdata = pd.read_csv('data_histories.csv', index_col=\"dp_folio\")\n",
    "fdata.head()"
   ]
  },
  {
   "cell_type": "code",
   "execution_count": 40,
   "metadata": {},
   "outputs": [],
   "source": [
    "pm = ProbModel()"
   ]
  },
  {
   "cell_type": "code",
   "execution_count": 42,
   "metadata": {},
   "outputs": [
    {
     "data": {
      "text/html": [
       "<div>\n",
       "<style scoped>\n",
       "    .dataframe tbody tr th:only-of-type {\n",
       "        vertical-align: middle;\n",
       "    }\n",
       "\n",
       "    .dataframe tbody tr th {\n",
       "        vertical-align: top;\n",
       "    }\n",
       "\n",
       "    .dataframe thead th {\n",
       "        text-align: right;\n",
       "    }\n",
       "</style>\n",
       "<table border=\"1\" class=\"dataframe\">\n",
       "  <thead>\n",
       "    <tr style=\"text-align: right;\">\n",
       "      <th></th>\n",
       "      <th>ejer0B</th>\n",
       "      <th>ejer1B</th>\n",
       "      <th>ejer5B</th>\n",
       "      <th>ejer10B</th>\n",
       "      <th>ejer0_1</th>\n",
       "      <th>ejer5_10</th>\n",
       "      <th>ejer0_5</th>\n",
       "      <th>obesity</th>\n",
       "    </tr>\n",
       "    <tr>\n",
       "      <th>dp_folio</th>\n",
       "      <th></th>\n",
       "      <th></th>\n",
       "      <th></th>\n",
       "      <th></th>\n",
       "      <th></th>\n",
       "      <th></th>\n",
       "      <th></th>\n",
       "      <th></th>\n",
       "    </tr>\n",
       "  </thead>\n",
       "  <tbody>\n",
       "    <tr>\n",
       "      <td>1</td>\n",
       "      <td>B</td>\n",
       "      <td>B</td>\n",
       "      <td>B</td>\n",
       "      <td>B</td>\n",
       "      <td>BB</td>\n",
       "      <td>BB</td>\n",
       "      <td>BBB</td>\n",
       "      <td>1</td>\n",
       "    </tr>\n",
       "    <tr>\n",
       "      <td>2</td>\n",
       "      <td>B</td>\n",
       "      <td>B</td>\n",
       "      <td>A</td>\n",
       "      <td>A</td>\n",
       "      <td>BB</td>\n",
       "      <td>AA</td>\n",
       "      <td>BBA</td>\n",
       "      <td>0</td>\n",
       "    </tr>\n",
       "    <tr>\n",
       "      <td>3</td>\n",
       "      <td>B</td>\n",
       "      <td>B</td>\n",
       "      <td>B</td>\n",
       "      <td>A</td>\n",
       "      <td>BB</td>\n",
       "      <td>BA</td>\n",
       "      <td>BBB</td>\n",
       "      <td>1</td>\n",
       "    </tr>\n",
       "    <tr>\n",
       "      <td>4</td>\n",
       "      <td>B</td>\n",
       "      <td>B</td>\n",
       "      <td>A</td>\n",
       "      <td>A</td>\n",
       "      <td>BB</td>\n",
       "      <td>AA</td>\n",
       "      <td>BBA</td>\n",
       "      <td>1</td>\n",
       "    </tr>\n",
       "    <tr>\n",
       "      <td>5</td>\n",
       "      <td>B</td>\n",
       "      <td>B</td>\n",
       "      <td>B</td>\n",
       "      <td>B</td>\n",
       "      <td>BB</td>\n",
       "      <td>BB</td>\n",
       "      <td>BBB</td>\n",
       "      <td>0</td>\n",
       "    </tr>\n",
       "  </tbody>\n",
       "</table>\n",
       "</div>"
      ],
      "text/plain": [
       "         ejer0B ejer1B ejer5B ejer10B ejer0_1 ejer5_10 ejer0_5  obesity\n",
       "dp_folio                                                               \n",
       "1             B      B      B       B      BB       BB     BBB        1\n",
       "2             B      B      A       A      BB       AA     BBA        0\n",
       "3             B      B      B       A      BB       BA     BBB        1\n",
       "4             B      B      A       A      BB       AA     BBA        1\n",
       "5             B      B      B       B      BB       BB     BBB        0"
      ]
     },
     "execution_count": 42,
     "metadata": {},
     "output_type": "execute_result"
    }
   ],
   "source": [
    "# Clusterize between obese and non obese\n",
    "obesity = {0:[1,2,3], 1:[4,5,6]}\n",
    "ndata = pm.clusterize_discrete(\"AIMC\", obesity, \"obesity\", fdata)\n",
    "\n",
    "# Clusterize excercise features\n",
    "ejer = {\"A\":\"greatereq_than(2.5)\", \"B\":\"less_than(2.5)\"}\n",
    "ndata = pm.clusterize_continuous(\"ejer_act\", ejer, \"ejer0B\", ndata)\n",
    "ndata = pm.clusterize_continuous(\"ejer1\", ejer, \"ejer1B\", ndata)\n",
    "ndata = pm.clusterize_continuous(\"ejer5\", ejer, \"ejer5B\", ndata)\n",
    "ndata = pm.clusterize_continuous(\"ejer10\", ejer, \"ejer10B\", ndata)\n",
    "ndata = pm.clusterize_continuous(\"ejer20\", ejer, \"ejer20B\", ndata)\n",
    "ndata = pm.clusterize_continuous(\"ejer30\", ejer, \"ejer30B\", ndata)\n",
    "\n",
    "ndata = pm.group_list_of_variables([\"ejer0B\", \"ejer1B\"], \"ejer0_1\", ndata)\n",
    "ndata = pm.group_list_of_variables([\"ejer5B\", \"ejer10B\"], \"ejer5_10\", ndata)\n",
    "ndata = pm.group_list_of_variables([\"ejer0B\", \"ejer1B\", \"ejer5B\"], \"ejer0_5\", ndata)\n",
    "\n",
    "selected_features = [\"ejer0B\", \"ejer1B\", \"ejer5B\", \"ejer10B\", \"ejer0_1\", \"ejer5_10\", \"ejer0_5\", \"obesity\"]\n",
    "sdata = ndata[selected_features]\n",
    "sdata.head()"
   ]
  },
  {
   "cell_type": "code",
   "execution_count": 51,
   "metadata": {},
   "outputs": [],
   "source": [
    "rdata = sdata[(ndata.ejer20B != \"N\") & (ndata.ejer10B != \"N\") & (ndata.ejer5B != \"N\") & (ndata.ejer1B != \"N\") & (ndata.ejer0B != \"N\")]"
   ]
  },
  {
   "cell_type": "code",
   "execution_count": 44,
   "metadata": {},
   "outputs": [],
   "source": [
    "# Queries for NBA\n",
    "queries_nba = {\"ejer0B\": [\"A\", \"B\"],\n",
    "               \"ejer1B\": [\"A\", \"B\"],\n",
    "               \"ejer5B\": [\"A\", \"B\"],\n",
    "               \"ejer10B\": [\"A\", \"B\"],\n",
    "              }\n",
    "\n",
    "# Queries for GNB\n",
    "buf = np.array(pm.string_generator(\"\", [\"A\", \"B\"], 2)).flatten()\n",
    "hist_posibilities = pm.string_padding(\"\", buf, \"\")\n",
    "\n",
    "queries_gnb = {\"ejer0_1\": hist_posibilities,\n",
    "              \"ejer5_10\": hist_posibilities}"
   ]
  },
  {
   "cell_type": "code",
   "execution_count": 20,
   "metadata": {},
   "outputs": [
    {
     "data": {
      "text/plain": [
       "{'ejer0_1': ['AA', 'AB', 'BA', 'BB'], 'ejer0_5': ['AA', 'AB', 'BA', 'BB']}"
      ]
     },
     "execution_count": 20,
     "metadata": {},
     "output_type": "execute_result"
    }
   ],
   "source": [
    "queries_gnb"
   ]
  },
  {
   "cell_type": "markdown",
   "metadata": {},
   "source": [
    "### NBA"
   ]
  },
  {
   "cell_type": "code",
   "execution_count": 15,
   "metadata": {},
   "outputs": [],
   "source": [
    "validation_nba = Validation(NB())"
   ]
  },
  {
   "cell_type": "code",
   "execution_count": 16,
   "metadata": {},
   "outputs": [
    {
     "data": {
      "image/png": "[encoded data removed]",
      "text/plain": [
       "<Figure size 432x288 with 1 Axes>"
      ]
     },
     "metadata": {
      "needs_background": "light"
     },
     "output_type": "display_data"
    },
    {
     "data": {
      "image/png": "[encoded data removed]",
      "text/plain": [
       "<Figure size 432x288 with 1 Axes>"
      ]
     },
     "metadata": {
      "needs_background": "light"
     },
     "output_type": "display_data"
    }
   ],
   "source": [
    "validation_nba.run_cv(rdata, queries_nba, \"obesity\", 1, 5, \"NBA - Test\")"
   ]
  },
  {
   "cell_type": "code",
   "execution_count": null,
   "metadata": {},
   "outputs": [],
   "source": []
  },
  {
   "cell_type": "markdown",
   "metadata": {},
   "source": [
    "### GNB - Factorization #1 (XX - XX)"
   ]
  },
  {
   "cell_type": "code",
   "execution_count": 22,
   "metadata": {},
   "outputs": [],
   "source": [
    "validation_gnb = Validation(NB())"
   ]
  },
  {
   "cell_type": "code",
   "execution_count": 23,
   "metadata": {},
   "outputs": [
    {
     "data": {
      "image/png": "[encoded data removed]",
      "text/plain": [
       "<Figure size 432x288 with 1 Axes>"
      ]
     },
     "metadata": {
      "needs_background": "light"
     },
     "output_type": "display_data"
    },
    {
     "data": {
      "image/png": "[encoded data removed]",
      "text/plain": [
       "<Figure size 432x288 with 1 Axes>"
      ]
     },
     "metadata": {
      "needs_background": "light"
     },
     "output_type": "display_data"
    }
   ],
   "source": [
    "validation_gnb.run_cv(rdata, queries_gnb, \"obesity\", 1, 5, \"GNB - Test\")"
   ]
  },
  {
   "cell_type": "code",
   "execution_count": 24,
   "metadata": {},
   "outputs": [],
   "source": [
    "gnb = NB()"
   ]
  },
  {
   "cell_type": "code",
   "execution_count": 26,
   "metadata": {},
   "outputs": [],
   "source": [
    "gnb.train(queries_gnb, \"obesity\", 1, rdata)"
   ]
  },
  {
   "cell_type": "code",
   "execution_count": 27,
   "metadata": {},
   "outputs": [],
   "source": [
    "gnb.predict(rdata)"
   ]
  },
  {
   "cell_type": "code",
   "execution_count": 30,
   "metadata": {},
   "outputs": [],
   "source": [
    "tdata_gnb = gnb.predicted_scores.join(gnb.get_predicted_labels()).join(rdata[\"obesity\"]).join(rdata[\"ejer0_1\"], rsuffix='_original').join(rdata[\"ejer5_10\"], rsuffix=\"_original\")"
   ]
  },
  {
   "cell_type": "code",
   "execution_count": 32,
   "metadata": {},
   "outputs": [
    {
     "data": {
      "text/plain": [
       "0.5910543130990416"
      ]
     },
     "execution_count": 32,
     "metadata": {},
     "output_type": "execute_result"
    }
   ],
   "source": [
    "1 - np.sum(tdata_gnb[\"predicted_obesity\"] - tdata_gnb[\"obesity\"]) / tdata_gnb.shape[0]"
   ]
  },
  {
   "cell_type": "code",
   "execution_count": 34,
   "metadata": {
    "scrolled": true
   },
   "outputs": [
    {
     "data": {
      "text/html": [
       "<div>\n",
       "<style scoped>\n",
       "    .dataframe tbody tr th:only-of-type {\n",
       "        vertical-align: middle;\n",
       "    }\n",
       "\n",
       "    .dataframe tbody tr th {\n",
       "        vertical-align: top;\n",
       "    }\n",
       "\n",
       "    .dataframe thead th {\n",
       "        text-align: right;\n",
       "    }\n",
       "</style>\n",
       "<table border=\"1\" class=\"dataframe\">\n",
       "  <thead>\n",
       "    <tr style=\"text-align: right;\">\n",
       "      <th></th>\n",
       "      <th>ejer0_1</th>\n",
       "      <th>ejer5_10</th>\n",
       "      <th>total_score</th>\n",
       "      <th>predicted_obesity</th>\n",
       "      <th>obesity</th>\n",
       "      <th>ejer0_1_original</th>\n",
       "      <th>ejer5_10_original</th>\n",
       "    </tr>\n",
       "    <tr>\n",
       "      <th>dp_folio</th>\n",
       "      <th></th>\n",
       "      <th></th>\n",
       "      <th></th>\n",
       "      <th></th>\n",
       "      <th></th>\n",
       "      <th></th>\n",
       "      <th></th>\n",
       "    </tr>\n",
       "  </thead>\n",
       "  <tbody>\n",
       "    <tr>\n",
       "      <td>2</td>\n",
       "      <td>0.327756</td>\n",
       "      <td>-0.128757</td>\n",
       "      <td>0.198999</td>\n",
       "      <td>1.0</td>\n",
       "      <td>0</td>\n",
       "      <td>BB</td>\n",
       "      <td>AA</td>\n",
       "    </tr>\n",
       "    <tr>\n",
       "      <td>5</td>\n",
       "      <td>0.327756</td>\n",
       "      <td>0.130397</td>\n",
       "      <td>0.458153</td>\n",
       "      <td>1.0</td>\n",
       "      <td>0</td>\n",
       "      <td>BB</td>\n",
       "      <td>BB</td>\n",
       "    </tr>\n",
       "    <tr>\n",
       "      <td>6</td>\n",
       "      <td>0.130397</td>\n",
       "      <td>0.130397</td>\n",
       "      <td>0.260793</td>\n",
       "      <td>1.0</td>\n",
       "      <td>0</td>\n",
       "      <td>AB</td>\n",
       "      <td>BB</td>\n",
       "    </tr>\n",
       "    <tr>\n",
       "      <td>7</td>\n",
       "      <td>0.327756</td>\n",
       "      <td>0.130397</td>\n",
       "      <td>0.458153</td>\n",
       "      <td>1.0</td>\n",
       "      <td>0</td>\n",
       "      <td>BB</td>\n",
       "      <td>BB</td>\n",
       "    </tr>\n",
       "    <tr>\n",
       "      <td>11</td>\n",
       "      <td>0.327756</td>\n",
       "      <td>0.130397</td>\n",
       "      <td>0.458153</td>\n",
       "      <td>1.0</td>\n",
       "      <td>0</td>\n",
       "      <td>BB</td>\n",
       "      <td>BB</td>\n",
       "    </tr>\n",
       "    <tr>\n",
       "      <td>...</td>\n",
       "      <td>...</td>\n",
       "      <td>...</td>\n",
       "      <td>...</td>\n",
       "      <td>...</td>\n",
       "      <td>...</td>\n",
       "      <td>...</td>\n",
       "      <td>...</td>\n",
       "    </tr>\n",
       "    <tr>\n",
       "      <td>1073</td>\n",
       "      <td>0.327756</td>\n",
       "      <td>-0.128757</td>\n",
       "      <td>0.198999</td>\n",
       "      <td>1.0</td>\n",
       "      <td>0</td>\n",
       "      <td>BB</td>\n",
       "      <td>AA</td>\n",
       "    </tr>\n",
       "    <tr>\n",
       "      <td>1075</td>\n",
       "      <td>0.327756</td>\n",
       "      <td>-0.128757</td>\n",
       "      <td>0.198999</td>\n",
       "      <td>1.0</td>\n",
       "      <td>0</td>\n",
       "      <td>BB</td>\n",
       "      <td>AA</td>\n",
       "    </tr>\n",
       "    <tr>\n",
       "      <td>1078</td>\n",
       "      <td>0.197088</td>\n",
       "      <td>-0.128757</td>\n",
       "      <td>0.068331</td>\n",
       "      <td>1.0</td>\n",
       "      <td>0</td>\n",
       "      <td>BA</td>\n",
       "      <td>AA</td>\n",
       "    </tr>\n",
       "    <tr>\n",
       "      <td>1079</td>\n",
       "      <td>0.327756</td>\n",
       "      <td>0.130397</td>\n",
       "      <td>0.458153</td>\n",
       "      <td>1.0</td>\n",
       "      <td>0</td>\n",
       "      <td>BB</td>\n",
       "      <td>BB</td>\n",
       "    </tr>\n",
       "    <tr>\n",
       "      <td>1080</td>\n",
       "      <td>0.327756</td>\n",
       "      <td>-0.128757</td>\n",
       "      <td>0.198999</td>\n",
       "      <td>1.0</td>\n",
       "      <td>0</td>\n",
       "      <td>BB</td>\n",
       "      <td>AA</td>\n",
       "    </tr>\n",
       "  </tbody>\n",
       "</table>\n",
       "<p>428 rows × 7 columns</p>\n",
       "</div>"
      ],
      "text/plain": [
       "           ejer0_1  ejer5_10  total_score  predicted_obesity  obesity  \\\n",
       "dp_folio                                                                \n",
       "2         0.327756 -0.128757     0.198999                1.0        0   \n",
       "5         0.327756  0.130397     0.458153                1.0        0   \n",
       "6         0.130397  0.130397     0.260793                1.0        0   \n",
       "7         0.327756  0.130397     0.458153                1.0        0   \n",
       "11        0.327756  0.130397     0.458153                1.0        0   \n",
       "...            ...       ...          ...                ...      ...   \n",
       "1073      0.327756 -0.128757     0.198999                1.0        0   \n",
       "1075      0.327756 -0.128757     0.198999                1.0        0   \n",
       "1078      0.197088 -0.128757     0.068331                1.0        0   \n",
       "1079      0.327756  0.130397     0.458153                1.0        0   \n",
       "1080      0.327756 -0.128757     0.198999                1.0        0   \n",
       "\n",
       "         ejer0_1_original ejer5_10_original  \n",
       "dp_folio                                     \n",
       "2                      BB                AA  \n",
       "5                      BB                BB  \n",
       "6                      AB                BB  \n",
       "7                      BB                BB  \n",
       "11                     BB                BB  \n",
       "...                   ...               ...  \n",
       "1073                   BB                AA  \n",
       "1075                   BB                AA  \n",
       "1078                   BA                AA  \n",
       "1079                   BB                BB  \n",
       "1080                   BB                AA  \n",
       "\n",
       "[428 rows x 7 columns]"
      ]
     },
     "execution_count": 34,
     "metadata": {},
     "output_type": "execute_result"
    }
   ],
   "source": [
    "tdata_gnb[(tdata_gnb.obesity == 0) & (tdata_gnb.predicted_obesity == 1)]"
   ]
  },
  {
   "cell_type": "code",
   "execution_count": 45,
   "metadata": {
    "scrolled": true
   },
   "outputs": [
    {
     "data": {
      "text/html": [
       "<div>\n",
       "<style scoped>\n",
       "    .dataframe tbody tr th:only-of-type {\n",
       "        vertical-align: middle;\n",
       "    }\n",
       "\n",
       "    .dataframe tbody tr th {\n",
       "        vertical-align: top;\n",
       "    }\n",
       "\n",
       "    .dataframe thead th {\n",
       "        text-align: right;\n",
       "    }\n",
       "</style>\n",
       "<table border=\"1\" class=\"dataframe\">\n",
       "  <thead>\n",
       "    <tr style=\"text-align: right;\">\n",
       "      <th></th>\n",
       "      <th>feat</th>\n",
       "      <th>cat</th>\n",
       "      <th>class</th>\n",
       "      <th>classcat</th>\n",
       "      <th>score</th>\n",
       "      <th>nx</th>\n",
       "      <th>ncx</th>\n",
       "      <th>nc</th>\n",
       "    </tr>\n",
       "  </thead>\n",
       "  <tbody>\n",
       "    <tr>\n",
       "      <td>0</td>\n",
       "      <td>ejer0_1</td>\n",
       "      <td>AA</td>\n",
       "      <td>obesity</td>\n",
       "      <td>1</td>\n",
       "      <td>-0.838645</td>\n",
       "      <td>283</td>\n",
       "      <td>31</td>\n",
       "      <td>213</td>\n",
       "    </tr>\n",
       "    <tr>\n",
       "      <td>1</td>\n",
       "      <td>ejer0_1</td>\n",
       "      <td>AB</td>\n",
       "      <td>obesity</td>\n",
       "      <td>1</td>\n",
       "      <td>0.130397</td>\n",
       "      <td>78</td>\n",
       "      <td>19</td>\n",
       "      <td>213</td>\n",
       "    </tr>\n",
       "    <tr>\n",
       "      <td>2</td>\n",
       "      <td>ejer0_1</td>\n",
       "      <td>BA</td>\n",
       "      <td>obesity</td>\n",
       "      <td>1</td>\n",
       "      <td>0.197088</td>\n",
       "      <td>116</td>\n",
       "      <td>30</td>\n",
       "      <td>213</td>\n",
       "    </tr>\n",
       "    <tr>\n",
       "      <td>3</td>\n",
       "      <td>ejer0_1</td>\n",
       "      <td>BB</td>\n",
       "      <td>obesity</td>\n",
       "      <td>1</td>\n",
       "      <td>0.327756</td>\n",
       "      <td>462</td>\n",
       "      <td>133</td>\n",
       "      <td>213</td>\n",
       "    </tr>\n",
       "    <tr>\n",
       "      <td>4</td>\n",
       "      <td>ejer5_10</td>\n",
       "      <td>AA</td>\n",
       "      <td>obesity</td>\n",
       "      <td>1</td>\n",
       "      <td>-0.128757</td>\n",
       "      <td>389</td>\n",
       "      <td>79</td>\n",
       "      <td>213</td>\n",
       "    </tr>\n",
       "    <tr>\n",
       "      <td>5</td>\n",
       "      <td>ejer5_10</td>\n",
       "      <td>AB</td>\n",
       "      <td>obesity</td>\n",
       "      <td>1</td>\n",
       "      <td>-0.367850</td>\n",
       "      <td>93</td>\n",
       "      <td>15</td>\n",
       "      <td>213</td>\n",
       "    </tr>\n",
       "    <tr>\n",
       "      <td>6</td>\n",
       "      <td>ejer5_10</td>\n",
       "      <td>BA</td>\n",
       "      <td>obesity</td>\n",
       "      <td>1</td>\n",
       "      <td>0.362590</td>\n",
       "      <td>123</td>\n",
       "      <td>36</td>\n",
       "      <td>213</td>\n",
       "    </tr>\n",
       "    <tr>\n",
       "      <td>7</td>\n",
       "      <td>ejer5_10</td>\n",
       "      <td>BB</td>\n",
       "      <td>obesity</td>\n",
       "      <td>1</td>\n",
       "      <td>0.130397</td>\n",
       "      <td>334</td>\n",
       "      <td>83</td>\n",
       "      <td>213</td>\n",
       "    </tr>\n",
       "  </tbody>\n",
       "</table>\n",
       "</div>"
      ],
      "text/plain": [
       "       feat cat    class  classcat     score   nx  ncx   nc\n",
       "0   ejer0_1  AA  obesity         1 -0.838645  283   31  213\n",
       "1   ejer0_1  AB  obesity         1  0.130397   78   19  213\n",
       "2   ejer0_1  BA  obesity         1  0.197088  116   30  213\n",
       "3   ejer0_1  BB  obesity         1  0.327756  462  133  213\n",
       "4  ejer5_10  AA  obesity         1 -0.128757  389   79  213\n",
       "5  ejer5_10  AB  obesity         1 -0.367850   93   15  213\n",
       "6  ejer5_10  BA  obesity         1  0.362590  123   36  213\n",
       "7  ejer5_10  BB  obesity         1  0.130397  334   83  213"
      ]
     },
     "execution_count": 45,
     "metadata": {},
     "output_type": "execute_result"
    }
   ],
   "source": [
    "gnb.scores_dictionary_full"
   ]
  },
  {
   "cell_type": "markdown",
   "metadata": {},
   "source": [
    "### GNB - Factorization #2 (XXX - X)"
   ]
  },
  {
   "cell_type": "code",
   "execution_count": 47,
   "metadata": {},
   "outputs": [],
   "source": [
    "buf = np.array(pm.string_generator(\"\", [\"A\", \"B\"], 3)).flatten()\n",
    "hist_posibilities = pm.string_padding(\"\", buf, \"\")\n",
    "\n",
    "queries_gnb_2 = {\"ejer0_5\": hist_posibilities,\n",
    "                 \"ejer10B\": [\"A\", \"B\"]}"
   ]
  },
  {
   "cell_type": "code",
   "execution_count": 52,
   "metadata": {},
   "outputs": [
    {
     "data": {
      "image/png": "[encoded data removed]",
      "text/plain": [
       "<Figure size 432x288 with 1 Axes>"
      ]
     },
     "metadata": {
      "needs_background": "light"
     },
     "output_type": "display_data"
    },
    {
     "data": {
      "image/png": "[encoded data removed]",
      "text/plain": [
       "<Figure size 432x288 with 1 Axes>"
      ]
     },
     "metadata": {
      "needs_background": "light"
     },
     "output_type": "display_data"
    }
   ],
   "source": [
    "validation_gnb.run_cv(rdata, queries_gnb_2, \"obesity\", 1, 5, \"GNB - Factorization #2\")"
   ]
  },
  {
   "cell_type": "code",
   "execution_count": 53,
   "metadata": {},
   "outputs": [],
   "source": [
    "gnb_2 = NB()"
   ]
  },
  {
   "cell_type": "code",
   "execution_count": 54,
   "metadata": {},
   "outputs": [],
   "source": [
    "gnb_2.train(queries_gnb_2, \"obesity\", 1, rdata)"
   ]
  },
  {
   "cell_type": "code",
   "execution_count": 55,
   "metadata": {},
   "outputs": [],
   "source": [
    "gnb_2.predict(rdata)"
   ]
  },
  {
   "cell_type": "code",
   "execution_count": 57,
   "metadata": {},
   "outputs": [
    {
     "data": {
      "text/plain": [
       "{'ejer0_5': {'AAA': -0.8011616101857922,\n",
       "  'AAB': -0.850432659192575,\n",
       "  'ABA': 0.06585807268157977,\n",
       "  'ABB': 0.25960832529915756,\n",
       "  'BAA': 0.2481796294755345,\n",
       "  'BAB': 0.13039659381915117,\n",
       "  'BBA': 0.2816275635430748,\n",
       "  'BBB': 0.3526814074249433},\n",
       " 'ejer10B': {'A': -0.003852931690812166, 'B': 0.025036078161324832}}"
      ]
     },
     "execution_count": 57,
     "metadata": {},
     "output_type": "execute_result"
    }
   ],
   "source": [
    "gnb_2.scores_dictionary"
   ]
  }
 ],
 "metadata": {
  "kernelspec": {
   "display_name": "Python 3",
   "language": "python",
   "name": "python3"
  },
  "language_info": {
   "codemirror_mode": {
    "name": "ipython",
    "version": 3
   },
   "file_extension": ".py",
   "mimetype": "text/x-python",
   "name": "python",
   "nbconvert_exporter": "python",
   "pygments_lexer": "ipython3",
   "version": "3.7.4"
  }
 },
 "nbformat": 4,
 "nbformat_minor": 2
}